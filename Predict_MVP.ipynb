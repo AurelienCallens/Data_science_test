{
 "cells": [
  {
   "attachments": {},
   "cell_type": "markdown",
   "metadata": {},
   "source": [
    "# NBA challenge: can we predict the next MVP for 2021 based on past data ?\n",
    "\n",
    "## Problem definition\n",
    "\n",
    "The NBA Most Valuable Player (MVP) trophy is an award given each year by the National Basketball Association (NBA) to the best player of the regular season.\n",
    "\n",
    "To rank a player, we use the share. The higher the share is, the lower his rank will be. The share is computed as follows:\n",
    "\n",
    "\n",
    "player MVP Share for Year X = MVP votes player receives in Year X / Most MVP votes received by any player in Year X\n",
    "\n",
    "\n",
    "The goal of this project is to predict this ranking from data collected on players and their teams during the regular season.\n",
    "\n",
    "## Proposed solution\n",
    "\n",
    "In order to predict the MVP for the season, we proceed as follows: \n",
    "\n",
    "1. Data importation and cleaning \n",
    "2. Data exploration to find out relationships between variables \n",
    "3. Train a Random forest to predict the share\n",
    "4. Performances analysis\n",
    "\n",
    "\n",
    "## Import required modules"
   ]
  },
  {
   "cell_type": "code",
   "execution_count": 64,
   "metadata": {},
   "outputs": [],
   "source": [
    "import pickle\n",
    "import numpy as np\n",
    "import pandas as pd\n",
    "import seaborn as sns\n",
    "import matplotlib.pyplot as plt\n",
    "\n",
    "from sklearn.model_selection import GroupKFold\n",
    "from sklearn.ensemble import RandomForestRegressor\n",
    "from sklearn.metrics import confusion_matrix"
   ]
  },
  {
   "attachments": {},
   "cell_type": "markdown",
   "metadata": {},
   "source": [
    "## Data importation and preparation\n",
    "\n",
    "### Import the data"
   ]
  },
  {
   "cell_type": "code",
   "execution_count": 17,
   "metadata": {},
   "outputs": [
    {
     "data": {
      "text/html": [
       "<div>\n",
       "<style scoped>\n",
       "    .dataframe tbody tr th:only-of-type {\n",
       "        vertical-align: middle;\n",
       "    }\n",
       "\n",
       "    .dataframe tbody tr th {\n",
       "        vertical-align: top;\n",
       "    }\n",
       "\n",
       "    .dataframe thead th {\n",
       "        text-align: right;\n",
       "    }\n",
       "</style>\n",
       "<table border=\"1\" class=\"dataframe\">\n",
       "  <thead>\n",
       "    <tr style=\"text-align: right;\">\n",
       "      <th></th>\n",
       "      <th>age</th>\n",
       "      <th>g</th>\n",
       "      <th>gs</th>\n",
       "      <th>mp</th>\n",
       "      <th>fg</th>\n",
       "      <th>fga</th>\n",
       "      <th>fg%</th>\n",
       "      <th>3p</th>\n",
       "      <th>3pa</th>\n",
       "      <th>3p%</th>\n",
       "      <th>...</th>\n",
       "      <th>pf</th>\n",
       "      <th>pts</th>\n",
       "      <th>year</th>\n",
       "      <th>w</th>\n",
       "      <th>l</th>\n",
       "      <th>w/l%</th>\n",
       "      <th>gb</th>\n",
       "      <th>ps/g</th>\n",
       "      <th>pa/g</th>\n",
       "      <th>srs</th>\n",
       "    </tr>\n",
       "  </thead>\n",
       "  <tbody>\n",
       "    <tr>\n",
       "      <th>count</th>\n",
       "      <td>540.000000</td>\n",
       "      <td>540.000000</td>\n",
       "      <td>540.000000</td>\n",
       "      <td>540.000000</td>\n",
       "      <td>540.000000</td>\n",
       "      <td>540.000000</td>\n",
       "      <td>539.000000</td>\n",
       "      <td>540.000000</td>\n",
       "      <td>540.00000</td>\n",
       "      <td>521.000000</td>\n",
       "      <td>...</td>\n",
       "      <td>540.000000</td>\n",
       "      <td>540.000000</td>\n",
       "      <td>540.0</td>\n",
       "      <td>540.000000</td>\n",
       "      <td>540.000000</td>\n",
       "      <td>540.000000</td>\n",
       "      <td>540.000000</td>\n",
       "      <td>540.000000</td>\n",
       "      <td>540.000000</td>\n",
       "      <td>540.000000</td>\n",
       "    </tr>\n",
       "    <tr>\n",
       "      <th>mean</th>\n",
       "      <td>25.555556</td>\n",
       "      <td>42.692593</td>\n",
       "      <td>20.000000</td>\n",
       "      <td>19.820926</td>\n",
       "      <td>3.287963</td>\n",
       "      <td>7.162593</td>\n",
       "      <td>0.447703</td>\n",
       "      <td>1.002593</td>\n",
       "      <td>2.81500</td>\n",
       "      <td>0.312875</td>\n",
       "      <td>...</td>\n",
       "      <td>1.635185</td>\n",
       "      <td>8.942407</td>\n",
       "      <td>2021.0</td>\n",
       "      <td>35.681481</td>\n",
       "      <td>36.318519</td>\n",
       "      <td>0.495628</td>\n",
       "      <td>11.075926</td>\n",
       "      <td>111.996481</td>\n",
       "      <td>112.193148</td>\n",
       "      <td>-0.181333</td>\n",
       "    </tr>\n",
       "    <tr>\n",
       "      <th>std</th>\n",
       "      <td>4.108305</td>\n",
       "      <td>20.706670</td>\n",
       "      <td>23.176183</td>\n",
       "      <td>9.308218</td>\n",
       "      <td>2.345228</td>\n",
       "      <td>4.830470</td>\n",
       "      <td>0.106992</td>\n",
       "      <td>0.904920</td>\n",
       "      <td>2.27559</td>\n",
       "      <td>0.126006</td>\n",
       "      <td>...</td>\n",
       "      <td>0.759005</td>\n",
       "      <td>6.483883</td>\n",
       "      <td>0.0</td>\n",
       "      <td>10.105677</td>\n",
       "      <td>10.105677</td>\n",
       "      <td>0.140304</td>\n",
       "      <td>9.593973</td>\n",
       "      <td>4.215182</td>\n",
       "      <td>3.364704</td>\n",
       "      <td>4.836268</td>\n",
       "    </tr>\n",
       "    <tr>\n",
       "      <th>min</th>\n",
       "      <td>19.000000</td>\n",
       "      <td>1.000000</td>\n",
       "      <td>0.000000</td>\n",
       "      <td>2.000000</td>\n",
       "      <td>0.000000</td>\n",
       "      <td>0.000000</td>\n",
       "      <td>0.000000</td>\n",
       "      <td>0.000000</td>\n",
       "      <td>0.00000</td>\n",
       "      <td>0.000000</td>\n",
       "      <td>...</td>\n",
       "      <td>0.000000</td>\n",
       "      <td>0.000000</td>\n",
       "      <td>2021.0</td>\n",
       "      <td>17.000000</td>\n",
       "      <td>20.000000</td>\n",
       "      <td>0.236000</td>\n",
       "      <td>0.000000</td>\n",
       "      <td>103.800000</td>\n",
       "      <td>104.700000</td>\n",
       "      <td>-10.130000</td>\n",
       "    </tr>\n",
       "    <tr>\n",
       "      <th>25%</th>\n",
       "      <td>22.000000</td>\n",
       "      <td>26.750000</td>\n",
       "      <td>1.000000</td>\n",
       "      <td>12.575000</td>\n",
       "      <td>1.575000</td>\n",
       "      <td>3.600000</td>\n",
       "      <td>0.403000</td>\n",
       "      <td>0.300000</td>\n",
       "      <td>0.97500</td>\n",
       "      <td>0.271000</td>\n",
       "      <td>...</td>\n",
       "      <td>1.100000</td>\n",
       "      <td>4.100000</td>\n",
       "      <td>2021.0</td>\n",
       "      <td>27.000000</td>\n",
       "      <td>30.000000</td>\n",
       "      <td>0.375000</td>\n",
       "      <td>1.000000</td>\n",
       "      <td>109.325000</td>\n",
       "      <td>110.100000</td>\n",
       "      <td>-3.450000</td>\n",
       "    </tr>\n",
       "    <tr>\n",
       "      <th>50%</th>\n",
       "      <td>25.000000</td>\n",
       "      <td>46.000000</td>\n",
       "      <td>8.000000</td>\n",
       "      <td>19.600000</td>\n",
       "      <td>2.800000</td>\n",
       "      <td>6.050000</td>\n",
       "      <td>0.442000</td>\n",
       "      <td>0.800000</td>\n",
       "      <td>2.30000</td>\n",
       "      <td>0.341000</td>\n",
       "      <td>...</td>\n",
       "      <td>1.600000</td>\n",
       "      <td>7.350000</td>\n",
       "      <td>2021.0</td>\n",
       "      <td>36.000000</td>\n",
       "      <td>36.000000</td>\n",
       "      <td>0.500000</td>\n",
       "      <td>9.000000</td>\n",
       "      <td>112.950000</td>\n",
       "      <td>112.300000</td>\n",
       "      <td>-0.060000</td>\n",
       "    </tr>\n",
       "    <tr>\n",
       "      <th>75%</th>\n",
       "      <td>28.000000</td>\n",
       "      <td>61.000000</td>\n",
       "      <td>38.000000</td>\n",
       "      <td>27.700000</td>\n",
       "      <td>4.600000</td>\n",
       "      <td>9.825000</td>\n",
       "      <td>0.496500</td>\n",
       "      <td>1.600000</td>\n",
       "      <td>4.32500</td>\n",
       "      <td>0.389000</td>\n",
       "      <td>...</td>\n",
       "      <td>2.100000</td>\n",
       "      <td>12.400000</td>\n",
       "      <td>2021.0</td>\n",
       "      <td>42.000000</td>\n",
       "      <td>45.000000</td>\n",
       "      <td>0.583000</td>\n",
       "      <td>20.000000</td>\n",
       "      <td>115.100000</td>\n",
       "      <td>114.300000</td>\n",
       "      <td>2.770000</td>\n",
       "    </tr>\n",
       "    <tr>\n",
       "      <th>max</th>\n",
       "      <td>40.000000</td>\n",
       "      <td>72.000000</td>\n",
       "      <td>72.000000</td>\n",
       "      <td>37.600000</td>\n",
       "      <td>11.200000</td>\n",
       "      <td>23.000000</td>\n",
       "      <td>1.000000</td>\n",
       "      <td>5.300000</td>\n",
       "      <td>12.70000</td>\n",
       "      <td>1.000000</td>\n",
       "      <td>...</td>\n",
       "      <td>4.000000</td>\n",
       "      <td>32.000000</td>\n",
       "      <td>2021.0</td>\n",
       "      <td>52.000000</td>\n",
       "      <td>55.000000</td>\n",
       "      <td>0.722000</td>\n",
       "      <td>30.000000</td>\n",
       "      <td>120.100000</td>\n",
       "      <td>118.500000</td>\n",
       "      <td>8.970000</td>\n",
       "    </tr>\n",
       "  </tbody>\n",
       "</table>\n",
       "<p>8 rows × 34 columns</p>\n",
       "</div>"
      ],
      "text/plain": [
       "              age           g          gs          mp          fg         fga  \\\n",
       "count  540.000000  540.000000  540.000000  540.000000  540.000000  540.000000   \n",
       "mean    25.555556   42.692593   20.000000   19.820926    3.287963    7.162593   \n",
       "std      4.108305   20.706670   23.176183    9.308218    2.345228    4.830470   \n",
       "min     19.000000    1.000000    0.000000    2.000000    0.000000    0.000000   \n",
       "25%     22.000000   26.750000    1.000000   12.575000    1.575000    3.600000   \n",
       "50%     25.000000   46.000000    8.000000   19.600000    2.800000    6.050000   \n",
       "75%     28.000000   61.000000   38.000000   27.700000    4.600000    9.825000   \n",
       "max     40.000000   72.000000   72.000000   37.600000   11.200000   23.000000   \n",
       "\n",
       "              fg%          3p        3pa         3p%  ...          pf  \\\n",
       "count  539.000000  540.000000  540.00000  521.000000  ...  540.000000   \n",
       "mean     0.447703    1.002593    2.81500    0.312875  ...    1.635185   \n",
       "std      0.106992    0.904920    2.27559    0.126006  ...    0.759005   \n",
       "min      0.000000    0.000000    0.00000    0.000000  ...    0.000000   \n",
       "25%      0.403000    0.300000    0.97500    0.271000  ...    1.100000   \n",
       "50%      0.442000    0.800000    2.30000    0.341000  ...    1.600000   \n",
       "75%      0.496500    1.600000    4.32500    0.389000  ...    2.100000   \n",
       "max      1.000000    5.300000   12.70000    1.000000  ...    4.000000   \n",
       "\n",
       "              pts    year           w           l        w/l%          gb  \\\n",
       "count  540.000000   540.0  540.000000  540.000000  540.000000  540.000000   \n",
       "mean     8.942407  2021.0   35.681481   36.318519    0.495628   11.075926   \n",
       "std      6.483883     0.0   10.105677   10.105677    0.140304    9.593973   \n",
       "min      0.000000  2021.0   17.000000   20.000000    0.236000    0.000000   \n",
       "25%      4.100000  2021.0   27.000000   30.000000    0.375000    1.000000   \n",
       "50%      7.350000  2021.0   36.000000   36.000000    0.500000    9.000000   \n",
       "75%     12.400000  2021.0   42.000000   45.000000    0.583000   20.000000   \n",
       "max     32.000000  2021.0   52.000000   55.000000    0.722000   30.000000   \n",
       "\n",
       "             ps/g        pa/g         srs  \n",
       "count  540.000000  540.000000  540.000000  \n",
       "mean   111.996481  112.193148   -0.181333  \n",
       "std      4.215182    3.364704    4.836268  \n",
       "min    103.800000  104.700000  -10.130000  \n",
       "25%    109.325000  110.100000   -3.450000  \n",
       "50%    112.950000  112.300000   -0.060000  \n",
       "75%    115.100000  114.300000    2.770000  \n",
       "max    120.100000  118.500000    8.970000  \n",
       "\n",
       "[8 rows x 34 columns]"
      ]
     },
     "execution_count": 17,
     "metadata": {},
     "output_type": "execute_result"
    }
   ],
   "source": [
    "train_df = pd.read_csv('./data/train.csv')\n",
    "train_df.describe()\n",
    "\n",
    "test_df = pd.read_csv('./data/test_2021.csv')\n",
    "test_df.describe()"
   ]
  },
  {
   "attachments": {},
   "cell_type": "markdown",
   "metadata": {},
   "source": [
    "### Checking for missing data"
   ]
  },
  {
   "cell_type": "code",
   "execution_count": 18,
   "metadata": {},
   "outputs": [
    {
     "data": {
      "text/plain": [
       "player     0\n",
       "pos        0\n",
       "age        0\n",
       "tm         0\n",
       "g          0\n",
       "gs         0\n",
       "mp         0\n",
       "fg         0\n",
       "fga        0\n",
       "fg%        1\n",
       "3p         0\n",
       "3pa        0\n",
       "3p%       19\n",
       "2p         0\n",
       "2pa        0\n",
       "2p%        5\n",
       "efg%       1\n",
       "ft         0\n",
       "fta        0\n",
       "ft%       18\n",
       "orb        0\n",
       "drb        0\n",
       "trb        0\n",
       "ast        0\n",
       "stl        0\n",
       "blk        0\n",
       "tov        0\n",
       "pf         0\n",
       "pts        0\n",
       "year       0\n",
       "team       0\n",
       "w          0\n",
       "l          0\n",
       "w/l%       0\n",
       "gb         0\n",
       "ps/g       0\n",
       "pa/g       0\n",
       "srs        0\n",
       "dtype: int64"
      ]
     },
     "execution_count": 18,
     "metadata": {},
     "output_type": "execute_result"
    }
   ],
   "source": [
    "train_df.isnull().sum()\n",
    "test_df.isnull().sum()"
   ]
  },
  {
   "attachments": {},
   "cell_type": "markdown",
   "metadata": {},
   "source": [
    "After a closer inspection of the two dataframes, missing values are only present in variables representing ratios (when one of the values of the ratio is equal to 0). We can therefore fill the missing data with 0."
   ]
  },
  {
   "cell_type": "code",
   "execution_count": 19,
   "metadata": {},
   "outputs": [
    {
     "name": "stdout",
     "output_type": "stream",
     "text": [
      "0\n",
      "0\n"
     ]
    }
   ],
   "source": [
    "# For train\n",
    "train_df.fillna(0, inplace=True)\n",
    "# For test\n",
    "test_df.fillna(0, inplace=True)\n",
    "\n",
    "# Checking for missing values once again: \n",
    "print(train_df.isnull().sum().sum())\n",
    "print(test_df.isnull().sum().sum())"
   ]
  },
  {
   "attachments": {},
   "cell_type": "markdown",
   "metadata": {},
   "source": [
    "### Find the MVP for each year"
   ]
  },
  {
   "cell_type": "code",
   "execution_count": 20,
   "metadata": {},
   "outputs": [],
   "source": [
    "# Create MVP column\n",
    "train_df['MVP'] = 0\n",
    "# Find the player with highest share value for each year\n",
    "train_df.loc[train_df.groupby('year')['share'].idxmax(), 'MVP'] = 1\n",
    "\n",
    "# Categorical variables\n",
    "train_df['MVP'] = train_df['MVP'].astype('category')\n",
    "train_df['tm'] = train_df['tm'].astype('category')\n",
    "train_df['year'] = train_df['year'].astype('category')\n",
    "train_df['pos'] = train_df['pos'].astype('category')\n",
    "train_df['team'] = train_df['team'].astype('category')"
   ]
  },
  {
   "attachments": {},
   "cell_type": "markdown",
   "metadata": {},
   "source": [
    "## Exploratory data analysis\n",
    "\n",
    "First let's find what are the relationships between variables and which ones are correlated with share value"
   ]
  },
  {
   "cell_type": "code",
   "execution_count": 21,
   "metadata": {},
   "outputs": [
    {
     "data": {
      "text/plain": [
       "<AxesSubplot:>"
      ]
     },
     "execution_count": 21,
     "metadata": {},
     "output_type": "execute_result"
    },
    {
     "data": {
      "image/png": "[encoded data removed]",
      "text/plain": [
       "<Figure size 1100x900 with 2 Axes>"
      ]
     },
     "metadata": {},
     "output_type": "display_data"
    }
   ],
   "source": [
    "corr_matrix = train_df.select_dtypes(['number']).corr()\n",
    "\n",
    "# Generate a mask for the upper triangle\n",
    "mask = np.triu(np.ones_like(corr_matrix, dtype=bool))\n",
    "\n",
    "f, ax = plt.subplots(figsize=(11, 9))\n",
    "cmap = sns.diverging_palette(230, 20, as_cmap=True)\n",
    "\n",
    "# Draw the heatmap\n",
    "sns.heatmap(corr_matrix, mask=mask, cmap=cmap, vmax=.3, center=0,\n",
    "            square=True, linewidths=.5, cbar_kws={\"shrink\": .5})"
   ]
  },
  {
   "cell_type": "code",
   "execution_count": 22,
   "metadata": {},
   "outputs": [
    {
     "data": {
      "text/plain": [
       "age      0.017869\n",
       "g        0.089288\n",
       "gs       0.167539\n",
       "mp       0.163263\n",
       "fg       0.277891\n",
       "fga      0.251100\n",
       "fg%      0.064830\n",
       "3p       0.097930\n",
       "3pa      0.098576\n",
       "3p%      0.030422\n",
       "2p       0.276695\n",
       "2pa      0.252785\n",
       "2p%      0.063241\n",
       "efg%     0.059057\n",
       "ft       0.316600\n",
       "fta      0.322358\n",
       "ft%      0.039576\n",
       "orb      0.100424\n",
       "drb      0.212943\n",
       "trb      0.185311\n",
       "ast      0.200166\n",
       "stl      0.176384\n",
       "blk      0.156967\n",
       "tov      0.233626\n",
       "pf       0.070109\n",
       "pts      0.289942\n",
       "share    1.000000\n",
       "w        0.123748\n",
       "l       -0.123233\n",
       "w/l%     0.127763\n",
       "gb      -0.102557\n",
       "ps/g     0.048713\n",
       "pa/g    -0.041029\n",
       "srs      0.124389\n",
       "Name: share, dtype: float64"
      ]
     },
     "execution_count": 22,
     "metadata": {},
     "output_type": "execute_result"
    }
   ],
   "source": [
    "corr_matrix['share']"
   ]
  },
  {
   "attachments": {},
   "cell_type": "markdown",
   "metadata": {},
   "source": [
    "From the correlation matrix, we can see that some player characteristics are more correlated to the share values than others. It is worth noting that correlation coefficients are quite (max 0.32).\n",
    "\n",
    "## Predict the share with random forest\n",
    "### Hyperparameter tuning with grouped Kfold cross validation"
   ]
  },
  {
   "cell_type": "code",
   "execution_count": 23,
   "metadata": {},
   "outputs": [],
   "source": [
    "target = 'share'\n",
    "groups = np.array(train_df['year'])\n",
    "y = np.array(train_df[target])\n",
    "X = train_df.drop(columns=[target, 'MVP' ,'player', 'year', 'team', 'pos', 'tm']) #do not account categorical var"
   ]
  },
  {
   "cell_type": "code",
   "execution_count": 24,
   "metadata": {},
   "outputs": [
    {
     "name": "stdout",
     "output_type": "stream",
     "text": [
      "SPLIT 1\n",
      "TRAIN INDEXES: [    0     1     2 ... 13549 13550 13551], TEST INDEXES: [   12    13    14 ... 13498 13499 13500]\n",
      "\n",
      "SPLIT 2\n",
      "TRAIN INDEXES: [    0     1     2 ... 13549 13550 13551], TEST INDEXES: [   27    28    29 ... 13444 13445 13446]\n",
      "\n",
      "SPLIT 3\n",
      "TRAIN INDEXES: [   12    13    14 ... 13549 13550 13551], TEST INDEXES: [    0     1     2 ... 13532 13533 13534]\n",
      "\n",
      "SPLIT 4\n",
      "TRAIN INDEXES: [    0     1     2 ... 13549 13550 13551], TEST INDEXES: [   40    41    42 ... 13517 13518 13519]\n",
      "\n",
      "SPLIT 5\n",
      "TRAIN INDEXES: [    0     1     2 ... 13532 13533 13534], TEST INDEXES: [   55    56    57 ... 13549 13550 13551]\n",
      "\n"
     ]
    }
   ],
   "source": [
    "gkf_cv = GroupKFold(n_splits=5)\n",
    "gkf_cv.get_n_splits(X, y, groups)\n",
    "\n",
    "for split, (ix_train, ix_test) in enumerate(gkf_cv.split(X, groups=groups)):\n",
    "    print(f\"SPLIT {split+1}\")\n",
    "    print(f\"TRAIN INDEXES: {ix_train}, TEST INDEXES: {ix_test}\\n\")"
   ]
  },
  {
   "cell_type": "code",
   "execution_count": 27,
   "metadata": {},
   "outputs": [],
   "source": [
    "from sklearn.model_selection import GridSearchCV\n",
    "from sklearn.metrics import ndcg_score, make_scorer\n",
    "\n",
    "rf = RandomForestRegressor(random_state = 42)\n",
    "\n",
    "param_grid = {\n",
    "    'max_features': [10, 20],\n",
    "    'n_estimators': [100, 200]\n",
    "}\n",
    "\n",
    "rf_grid = GridSearchCV(estimator=rf, param_grid=param_grid,\n",
    "                               cv=gkf_cv, verbose=2, n_jobs=-1)"
   ]
  },
  {
   "cell_type": "code",
   "execution_count": 28,
   "metadata": {},
   "outputs": [
    {
     "name": "stdout",
     "output_type": "stream",
     "text": [
      "Fitting 5 folds for each of 4 candidates, totalling 20 fits\n",
      "[CV] END ..................max_features=10, n_estimators=100; total time=   5.4s\n",
      "[CV] END ..................max_features=10, n_estimators=100; total time=   5.7s\n",
      "[CV] END ..................max_features=10, n_estimators=100; total time=   6.0s\n",
      "[CV] END ..................max_features=10, n_estimators=100; total time=   6.2s\n",
      "[CV] END ..................max_features=10, n_estimators=100; total time=   6.5s\n",
      "[CV] END ..................max_features=10, n_estimators=200; total time=  12.3s\n",
      "[CV] END ..................max_features=10, n_estimators=200; total time=  12.3s\n",
      "[CV] END ..................max_features=10, n_estimators=200; total time=  12.7s\n",
      "[CV] END ..................max_features=10, n_estimators=200; total time=  12.8s\n",
      "[CV] END ..................max_features=10, n_estimators=200; total time=  12.9s\n",
      "[CV] END ..................max_features=20, n_estimators=100; total time=  13.4s\n",
      "[CV] END ..................max_features=20, n_estimators=100; total time=  13.4s\n",
      "[CV] END ..................max_features=20, n_estimators=100; total time=  12.0s\n",
      "[CV] END ..................max_features=20, n_estimators=100; total time=  12.0s\n",
      "[CV] END ..................max_features=20, n_estimators=100; total time=  12.7s\n",
      "[CV] END ..................max_features=20, n_estimators=200; total time=  19.1s\n",
      "[CV] END ..................max_features=20, n_estimators=200; total time=  18.9s\n",
      "[CV] END ..................max_features=20, n_estimators=200; total time=  16.3s\n",
      "[CV] END ..................max_features=20, n_estimators=200; total time=  16.8s\n",
      "[CV] END ..................max_features=20, n_estimators=200; total time=  16.6s\n"
     ]
    },
    {
     "data": {
      "text/html": [
       "<style>#sk-container-id-2 {color: black;background-color: white;}#sk-container-id-2 pre{padding: 0;}#sk-container-id-2 div.sk-toggleable {background-color: white;}#sk-container-id-2 label.sk-toggleable__label {cursor: pointer;display: block;width: 100%;margin-bottom: 0;padding: 0.3em;box-sizing: border-box;text-align: center;}#sk-container-id-2 label.sk-toggleable__label-arrow:before {content: \"▸\";float: left;margin-right: 0.25em;color: #696969;}#sk-container-id-2 label.sk-toggleable__label-arrow:hover:before {color: black;}#sk-container-id-2 div.sk-estimator:hover label.sk-toggleable__label-arrow:before {color: black;}#sk-container-id-2 div.sk-toggleable__content {max-height: 0;max-width: 0;overflow: hidden;text-align: left;background-color: #f0f8ff;}#sk-container-id-2 div.sk-toggleable__content pre {margin: 0.2em;color: black;border-radius: 0.25em;background-color: #f0f8ff;}#sk-container-id-2 input.sk-toggleable__control:checked~div.sk-toggleable__content {max-height: 200px;max-width: 100%;overflow: auto;}#sk-container-id-2 input.sk-toggleable__control:checked~label.sk-toggleable__label-arrow:before {content: \"▾\";}#sk-container-id-2 div.sk-estimator input.sk-toggleable__control:checked~label.sk-toggleable__label {background-color: #d4ebff;}#sk-container-id-2 div.sk-label input.sk-toggleable__control:checked~label.sk-toggleable__label {background-color: #d4ebff;}#sk-container-id-2 input.sk-hidden--visually {border: 0;clip: rect(1px 1px 1px 1px);clip: rect(1px, 1px, 1px, 1px);height: 1px;margin: -1px;overflow: hidden;padding: 0;position: absolute;width: 1px;}#sk-container-id-2 div.sk-estimator {font-family: monospace;background-color: #f0f8ff;border: 1px dotted black;border-radius: 0.25em;box-sizing: border-box;margin-bottom: 0.5em;}#sk-container-id-2 div.sk-estimator:hover {background-color: #d4ebff;}#sk-container-id-2 div.sk-parallel-item::after {content: \"\";width: 100%;border-bottom: 1px solid gray;flex-grow: 1;}#sk-container-id-2 div.sk-label:hover label.sk-toggleable__label {background-color: #d4ebff;}#sk-container-id-2 div.sk-serial::before {content: \"\";position: absolute;border-left: 1px solid gray;box-sizing: border-box;top: 0;bottom: 0;left: 50%;z-index: 0;}#sk-container-id-2 div.sk-serial {display: flex;flex-direction: column;align-items: center;background-color: white;padding-right: 0.2em;padding-left: 0.2em;position: relative;}#sk-container-id-2 div.sk-item {position: relative;z-index: 1;}#sk-container-id-2 div.sk-parallel {display: flex;align-items: stretch;justify-content: center;background-color: white;position: relative;}#sk-container-id-2 div.sk-item::before, #sk-container-id-2 div.sk-parallel-item::before {content: \"\";position: absolute;border-left: 1px solid gray;box-sizing: border-box;top: 0;bottom: 0;left: 50%;z-index: -1;}#sk-container-id-2 div.sk-parallel-item {display: flex;flex-direction: column;z-index: 1;position: relative;background-color: white;}#sk-container-id-2 div.sk-parallel-item:first-child::after {align-self: flex-end;width: 50%;}#sk-container-id-2 div.sk-parallel-item:last-child::after {align-self: flex-start;width: 50%;}#sk-container-id-2 div.sk-parallel-item:only-child::after {width: 0;}#sk-container-id-2 div.sk-dashed-wrapped {border: 1px dashed gray;margin: 0 0.4em 0.5em 0.4em;box-sizing: border-box;padding-bottom: 0.4em;background-color: white;}#sk-container-id-2 div.sk-label label {font-family: monospace;font-weight: bold;display: inline-block;line-height: 1.2em;}#sk-container-id-2 div.sk-label-container {text-align: center;}#sk-container-id-2 div.sk-container {/* jupyter's `normalize.less` sets `[hidden] { display: none; }` but bootstrap.min.css set `[hidden] { display: none !important; }` so we also need the `!important` here to be able to override the default hidden behavior on the sphinx rendered scikit-learn.org. See: https://github.com/scikit-learn/scikit-learn/issues/21755 */display: inline-block !important;position: relative;}#sk-container-id-2 div.sk-text-repr-fallback {display: none;}</style><div id=\"sk-container-id-2\" class=\"sk-top-container\"><div class=\"sk-text-repr-fallback\"><pre>GridSearchCV(cv=GroupKFold(n_splits=5),\n",
       "             estimator=RandomForestRegressor(random_state=42), n_jobs=-1,\n",
       "             param_grid={&#x27;max_features&#x27;: [10, 20], &#x27;n_estimators&#x27;: [100, 200]},\n",
       "             verbose=2)</pre><b>In a Jupyter environment, please rerun this cell to show the HTML representation or trust the notebook. <br />On GitHub, the HTML representation is unable to render, please try loading this page with nbviewer.org.</b></div><div class=\"sk-container\" hidden><div class=\"sk-item sk-dashed-wrapped\"><div class=\"sk-label-container\"><div class=\"sk-label sk-toggleable\"><input class=\"sk-toggleable__control sk-hidden--visually\" id=\"sk-estimator-id-4\" type=\"checkbox\" ><label for=\"sk-estimator-id-4\" class=\"sk-toggleable__label sk-toggleable__label-arrow\">GridSearchCV</label><div class=\"sk-toggleable__content\"><pre>GridSearchCV(cv=GroupKFold(n_splits=5),\n",
       "             estimator=RandomForestRegressor(random_state=42), n_jobs=-1,\n",
       "             param_grid={&#x27;max_features&#x27;: [10, 20], &#x27;n_estimators&#x27;: [100, 200]},\n",
       "             verbose=2)</pre></div></div></div><div class=\"sk-parallel\"><div class=\"sk-parallel-item\"><div class=\"sk-item\"><div class=\"sk-label-container\"><div class=\"sk-label sk-toggleable\"><input class=\"sk-toggleable__control sk-hidden--visually\" id=\"sk-estimator-id-5\" type=\"checkbox\" ><label for=\"sk-estimator-id-5\" class=\"sk-toggleable__label sk-toggleable__label-arrow\">estimator: RandomForestRegressor</label><div class=\"sk-toggleable__content\"><pre>RandomForestRegressor(random_state=42)</pre></div></div></div><div class=\"sk-serial\"><div class=\"sk-item\"><div class=\"sk-estimator sk-toggleable\"><input class=\"sk-toggleable__control sk-hidden--visually\" id=\"sk-estimator-id-6\" type=\"checkbox\" ><label for=\"sk-estimator-id-6\" class=\"sk-toggleable__label sk-toggleable__label-arrow\">RandomForestRegressor</label><div class=\"sk-toggleable__content\"><pre>RandomForestRegressor(random_state=42)</pre></div></div></div></div></div></div></div></div></div></div>"
      ],
      "text/plain": [
       "GridSearchCV(cv=GroupKFold(n_splits=5),\n",
       "             estimator=RandomForestRegressor(random_state=42), n_jobs=-1,\n",
       "             param_grid={'max_features': [10, 20], 'n_estimators': [100, 200]},\n",
       "             verbose=2)"
      ]
     },
     "execution_count": 28,
     "metadata": {},
     "output_type": "execute_result"
    }
   ],
   "source": [
    "# Fit the grid search model\n",
    "rf_grid.fit(X, y, groups=groups)"
   ]
  },
  {
   "cell_type": "code",
   "execution_count": 65,
   "metadata": {},
   "outputs": [],
   "source": [
    "best_grid = rf_grid.best_estimator_\n",
    "\n",
    "# Saving the model\n",
    "filename = 'best_rf_model.pkl'\n",
    "pickle.dump(best_grid, open(filename, 'wb'))"
   ]
  },
  {
   "attachments": {},
   "cell_type": "markdown",
   "metadata": {},
   "source": [
    "## Evaluating the model\n",
    "### Evaluating the ranking performance"
   ]
  },
  {
   "cell_type": "code",
   "execution_count": 79,
   "metadata": {},
   "outputs": [
    {
     "name": "stdout",
     "output_type": "stream",
     "text": [
      "0.9925951943047769\n"
     ]
    }
   ],
   "source": [
    "y_pred = best_grid.predict(X)\n",
    "# Evaluate random forest on the train set: \n",
    "train_df['pred_share'] = y_pred\n",
    "\n",
    "def compute_ndcg(true_share, pred_share):\n",
    "    score = ndcg_score([np.asarray(true_share)], [np.asarray(pred_share)], k=3, ignore_ties=True)\n",
    "    return(score)\n",
    "\n",
    "res=[]\n",
    "for grp in np.unique(groups):\n",
    "    temp_df = train_df[train_df['year'] == grp]\n",
    "    res.append(compute_ndcg(temp_df['share'], temp_df['pred_share']))\n",
    "print(np.mean(res))"
   ]
  },
  {
   "cell_type": "code",
   "execution_count": 78,
   "metadata": {},
   "outputs": [
    {
     "data": {
      "image/png": "[encoded data removed]",
      "text/plain": [
       "<Figure size 1200x900 with 1 Axes>"
      ]
     },
     "metadata": {},
     "output_type": "display_data"
    }
   ],
   "source": [
    "f, ax = plt.subplots(figsize=(12, 9))\n",
    "g = sns.barplot(x=np.unique(groups) , y= res, color='grey')\n",
    "g.axhline(np.mean(res), color='red')\n",
    "ax.tick_params(axis='x', rotation=90)\n",
    "plt.show()"
   ]
  },
  {
   "attachments": {},
   "cell_type": "markdown",
   "metadata": {},
   "source": [
    "### Evaluating MVP prediction performance"
   ]
  },
  {
   "cell_type": "code",
   "execution_count": 85,
   "metadata": {},
   "outputs": [
    {
     "data": {
      "text/plain": [
       "(0.9333333333333333, 0.9333333333333333, 0.9333333333333333, None)"
      ]
     },
     "execution_count": 85,
     "metadata": {},
     "output_type": "execute_result"
    }
   ],
   "source": [
    "# Create MVP column\n",
    "train_df['pred_MVP'] = 0\n",
    "# Find the player with highest share value for each year\n",
    "train_df.loc[train_df.groupby('year')['pred_share'].idxmax(), 'pred_MVP'] = 1\n",
    "\n",
    "confusion_matrix(train_df['MVP'], train_df['pred_MVP'])\n"
   ]
  }
 ],
 "metadata": {
  "kernelspec": {
   "display_name": "Python 3.10.6 ('nlp')",
   "language": "python",
   "name": "python3"
  },
  "language_info": {
   "codemirror_mode": {
    "name": "ipython",
    "version": 3
   },
   "file_extension": ".py",
   "mimetype": "text/x-python",
   "name": "python",
   "nbconvert_exporter": "python",
   "pygments_lexer": "ipython3",
   "version": "3.10.6"
  },
  "orig_nbformat": 4,
  "vscode": {
   "interpreter": {
    "hash": "b1c93e01746e06ad95473d86c96dea103ffbd02aae87a25307fd5ab8bdbc27ab"
   }
  }
 },
 "nbformat": 4,
 "nbformat_minor": 2
}
